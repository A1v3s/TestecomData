{
 "cells": [
  {
   "cell_type": "code",
   "execution_count": 31,
   "metadata": {},
   "outputs": [
    {
     "name": "stdout",
     "output_type": "stream",
     "text": [
      "2020-01-21\n",
      "<class 'datetime.date'>\n",
      "21/01/20\n",
      "<class 'str'>\n"
     ]
    }
   ],
   "source": [
    "from datetime import date\n",
    "\n",
    "dataInicio = date.fromisoformat('2020-01-21')\n",
    "\n",
    "print(dataInicio)\n",
    "print(type(dataInicio))\n",
    "\n",
    "Mudou = dataInicio.strftime('%d/%m/%y')\n",
    "print(Mudou)\n",
    "print(type(Mudou))"
   ]
  }
 ],
 "metadata": {
  "kernelspec": {
   "display_name": "Python 3",
   "language": "python",
   "name": "python3"
  },
  "language_info": {
   "codemirror_mode": {
    "name": "ipython",
    "version": 3
   },
   "file_extension": ".py",
   "mimetype": "text/x-python",
   "name": "python",
   "nbconvert_exporter": "python",
   "pygments_lexer": "ipython3",
   "version": "3.8.5"
  }
 },
 "nbformat": 4,
 "nbformat_minor": 4
}
